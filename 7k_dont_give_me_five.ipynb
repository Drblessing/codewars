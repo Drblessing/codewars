{
 "cells": [
  {
   "cell_type": "code",
   "execution_count": null,
   "metadata": {},
   "outputs": [],
   "source": [
    "# python 3.7.7\n",
    "# \n",
    "'''\n",
    "Don't give me five!\n",
    "In this kata you get the start number and the end number of a region and should return the count of all numbers except numbers with a 5 in it. The start and the end number are both inclusive!\n",
    "\n",
    "Examples:\n",
    "\n",
    "1,9 -> 1,2,3,4,6,7,8,9 -> Result 8\n",
    "4,17 -> 4,6,7,8,9,10,11,12,13,14,16,17 -> Result 12\n",
    "The result may contain fives. ;-)\n",
    "The start number will always be smaller than the end number. Both numbers can be also negative!\n",
    "\n",
    "I'm very curious for your solutions and the way you solve it. Maybe someone of you will find an easy pure mathematics solution.\n",
    "\n",
    "Have fun coding it and please don't forget to vote and rank this kata! :-)\n",
    "\n",
    "I have also created other katas. Take a look if you enjoyed this kata!\n",
    "'''"
   ]
  },
  {
   "cell_type": "code",
   "execution_count": 1,
   "metadata": {},
   "outputs": [
    {
     "data": {
      "text/plain": [
       "'3.7.7 (default, May  6 2020, 04:59:01) \\n[Clang 4.0.1 (tags/RELEASE_401/final)]'"
      ]
     },
     "execution_count": 1,
     "metadata": {},
     "output_type": "execute_result"
    }
   ],
   "source": [
    "import sys\n",
    "sys.version"
   ]
  }
 ],
 "metadata": {
  "kernelspec": {
   "display_name": "Python 3",
   "language": "python",
   "name": "python3"
  },
  "language_info": {
   "codemirror_mode": {
    "name": "ipython",
    "version": 3
   },
   "file_extension": ".py",
   "mimetype": "text/x-python",
   "name": "python",
   "nbconvert_exporter": "python",
   "pygments_lexer": "ipython3",
   "version": "3.7.7"
  }
 },
 "nbformat": 4,
 "nbformat_minor": 4
}
