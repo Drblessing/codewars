{
 "cells": [
  {
   "cell_type": "code",
   "execution_count": 2,
   "metadata": {},
   "outputs": [
    {
     "data": {
      "text/plain": [
       "'3.7.7 (default, May  6 2020, 04:59:01) \\n[Clang 4.0.1 (tags/RELEASE_401/final)]'"
      ]
     },
     "execution_count": 2,
     "metadata": {},
     "output_type": "execute_result"
    }
   ],
   "source": [
    "# python 3.7\n",
    "# codwars Vasya - Clerk\n",
    "# https://www.codewars.com/kata/555615a77ebc7c2c8a0000b8\n",
    "# coded with <3 by Daniel Blessing\n",
    "'''\n",
    "The new \"Avengers\" movie has just been released! There are a lot of people at the cinema box office standing in a huge line. Each of them has a single 100, 50 or 25 dollar bill. An \"Avengers\" ticket costs 25 dollars.\n",
    "\n",
    "Vasya is currently working as a clerk. He wants to sell a ticket to every single person in this line.\n",
    "\n",
    "Can Vasya sell a ticket to every person and give change if he initially has no money and sells the tickets strictly in the order people queue?\n",
    "\n",
    "Return YES, if Vasya can sell a ticket to every person and give change with the bills he has at hand at that moment. Otherwise return NO.\n",
    "\n",
    "Examples:\n",
    "tickets([25, 25, 50]) # => YES \n",
    "tickets([25, 100]) # => NO. Vasya will not have enough money to give change to 100 dollars\n",
    "tickets([25, 25, 50, 50, 100]) # => NO. Vasya will not have the right bills to give 75 dollars of change (you can't make two bills of 25 from one of 50)\n",
    "'''"
   ]
  },
  {
   "cell_type": "code",
   "execution_count": 17,
   "metadata": {},
   "outputs": [
    {
     "data": {
      "text/plain": [
       "False"
      ]
     },
     "execution_count": 17,
     "metadata": {},
     "output_type": "execute_result"
    }
   ],
   "source": [
    "def tickets(people):\n",
    "    '''\n",
    "    Determines whether or not the teller can accept the sequence of bills\n",
    "    The teller has to have change to accept $25 for every person\n",
    "    input: list[int]\n",
    "    output: str(Bool)\n",
    "    >>> tickets([25,25,50])\n",
    "    >>> True\n",
    "    >>> tickets([25, 25, 50, 50, 100])\n",
    "    >>> False\n",
    "    '''\n",
    "    \n",
    "    # initialize register\n",
    "    register = {25:0,50:0,100:0}\n",
    "    \n",
    "    # iterate through list \n",
    "    for i in people:\n",
    "        \n",
    "        # if 25 add one $25 bill to register\n",
    "        if i == 25:\n",
    "            register[25] += 1 \n",
    "        \n",
    "        # if 50 check for change, then add a 50 and subtract a 25\n",
    "        elif i == 50:\n",
    "            if register[25] <= 0:\n",
    "                return 'NO'\n",
    "            else:\n",
    "                register[25] -= 1\n",
    "                register[50] += 1\n",
    "        # if 100 check for change, then add a 100 \n",
    "        elif i == 100:\n",
    "            \n",
    "            if register[50] >= 1 and register[25] >= 1:\n",
    "                register[50] -= 1 \n",
    "                register[25] -= 1 \n",
    "                register[100] += 1 \n",
    "            \n",
    "            elif register[25] >= 3:\n",
    "                register[25] -= 3 \n",
    "                register[100] += 1\n",
    "            \n",
    "            else:\n",
    "                return 'NO'\n",
    "    \n",
    "    # all people processed! :) \n",
    "    return \"YES\""
   ]
  },
  {
   "cell_type": "code",
   "execution_count": 15,
   "metadata": {},
   "outputs": [
    {
     "data": {
      "text/plain": [
       "2"
      ]
     },
     "execution_count": 15,
     "metadata": {},
     "output_type": "execute_result"
    }
   ],
   "source": [
    "register = {5:1,25:0,100:0}\n",
    "register[5] += 1 \n",
    "register[5]"
   ]
  }
 ],
 "metadata": {
  "kernelspec": {
   "display_name": "Python 3",
   "language": "python",
   "name": "python3"
  },
  "language_info": {
   "codemirror_mode": {
    "name": "ipython",
    "version": 3
   },
   "file_extension": ".py",
   "mimetype": "text/x-python",
   "name": "python",
   "nbconvert_exporter": "python",
   "pygments_lexer": "ipython3",
   "version": "3.7.7"
  }
 },
 "nbformat": 4,
 "nbformat_minor": 4
}
