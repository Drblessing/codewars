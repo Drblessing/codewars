{
 "cells": [
  {
   "cell_type": "code",
   "execution_count": null,
   "metadata": {},
   "outputs": [],
   "source": [
    "# python 3.7\n",
    "# Number of integer partitions\n",
    "# https://www.codewars.com/kata/546d5028ddbcbd4b8d001254\n",
    "# coded with <3 by Daniel Blessing\n",
    "\n",
    "'''\n",
    "An integer partition of n is a weakly decreasing list of positive integers which sum to n.\n",
    "\n",
    "For example, there are 7 integer partitions of 5:\n",
    "\n",
    "[5], [4,1], [3,2], [3,1,1], [2,2,1], [2,1,1,1], [1,1,1,1,1].\n",
    "\n",
    "Write a function named partitions which returns the number of integer partitions of n. \n",
    "The function should be able to find the number of integer partitions of n for n as least as large as 100.\n",
    "'''"
   ]
  },
  {
   "cell_type": "code",
   "execution_count": 3,
   "metadata": {},
   "outputs": [],
   "source": [
    "def partitions(n):\n",
    "    '''returns the number of integer partitions of n\n",
    "    input: n\n",
    "    output: n\n",
    "    >>> partitions(7)\n",
    "    >>> 5\n",
    "    '''\n",
    "    \n",
    "    # intialize num of partitions\n",
    "    o = 0 \n",
    "    while not set(n) == {1}:\n",
    "        o += 1 \n",
    "        "
   ]
  },
  {
   "cell_type": "code",
   "execution_count": 5,
   "metadata": {},
   "outputs": [
    {
     "data": {
      "text/plain": [
       "True"
      ]
     },
     "execution_count": 5,
     "metadata": {},
     "output_type": "execute_result"
    }
   ],
   "source": []
  }
 ],
 "metadata": {
  "kernelspec": {
   "display_name": "Python 3",
   "language": "python",
   "name": "python3"
  },
  "language_info": {
   "codemirror_mode": {
    "name": "ipython",
    "version": 3
   },
   "file_extension": ".py",
   "mimetype": "text/x-python",
   "name": "python",
   "nbconvert_exporter": "python",
   "pygments_lexer": "ipython3",
   "version": "3.7.7"
  }
 },
 "nbformat": 4,
 "nbformat_minor": 4
}
